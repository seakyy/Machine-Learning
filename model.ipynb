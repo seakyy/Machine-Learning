{
 "cells": [
  {
   "cell_type": "markdown",
   "id": "3dd3190f-98b7-4466-a5ec-b352949e9fec",
   "metadata": {},
   "source": [
    "# Teil 3: Modellerstellung\n",
    "In diesem Abschnitt erstelle ich ein Machine Learning Modell zur Klassifikation von Himmelsobjekten (Sterne, Galaxien, Quasare).  \n",
    "Dabei werde ich:\n",
    "- Den Datensatz in Trainings- und Testdaten aufteilen.\n",
    "- Einen passenden Klassifikationsalgorithmus auswählen.\n",
    "- Das Modell trainieren.\n",
    "- Einige Vorhersagen manuell kontrollieren und die Ergebnisse interpretieren."
   ]
  },
  {
   "cell_type": "code",
   "execution_count": 6,
   "id": "ed13885f-66eb-4508-86fc-ff4de27700b4",
   "metadata": {},
   "outputs": [
    {
     "name": "stdout",
     "output_type": "stream",
     "text": [
      "Trainingsdaten:  (80000, 6)\n",
      "Testdaten:  (20000, 6)\n"
     ]
    }
   ],
   "source": [
    "# 3.1 Aufteilen der Daten\n",
    "\n",
    "import pandas as pd\n",
    "from sklearn.model_selection import train_test_split\n",
    "\n",
    "# Laden des Datensatzes\n",
    "df = pd.read_csv('star_classification.csv')\n",
    "\n",
    "# Eingabefelder (Features) und Zielvariable (Label) definieren\n",
    "X = df[['u', 'g', 'r', 'i', 'z', 'redshift']]\n",
    "y = df['class']\n",
    "\n",
    "# Aufteilen in 80% Trainingsdaten und 20% Testdaten\n",
    "X_train, X_test, y_train, y_test = train_test_split(X, y, test_size=0.2, random_state=42)\n",
    "\n",
    "print(\"Trainingsdaten: \", X_train.shape)\n",
    "print(\"Testdaten: \", X_test.shape)"
   ]
  },
  {
   "cell_type": "markdown",
   "id": "1d82d642-d468-4f2e-b38f-4b0057ad00f5",
   "metadata": {},
   "source": [
    "# 3.2 Auswahl und Training des Modells\n",
    "\n",
    "\n",
    "Ich habe mich für den Random Forest Classifier entschieden.\n",
    "\n",
    "Begründung:\n",
    "- Random Forest ist robust gegenüber Ausreißern und überfittet seltener.\n",
    "- Er funktioniert gut bei Datensätzen mit nicht-linearer Struktur.\n",
    "- Er kann sowohl numerische als auch kategoriale Features verarbeiten.\n",
    "- Er liefert eine Schätzung der Wichtigkeit der einzelnen Features.\n",
    "\n",
    "Für diese Klassifikationsaufgabe (Stern, Galaxie, Quasar) ist Random Forest daher sehr gut geeignet."
   ]
  },
  {
   "cell_type": "code",
   "execution_count": 7,
   "id": "f90c46e9-a35f-42c3-909a-a12175b1a990",
   "metadata": {},
   "outputs": [
    {
     "name": "stdout",
     "output_type": "stream",
     "text": [
      "Modelltraining abgeschlossen.\n"
     ]
    }
   ],
   "source": [
    "from sklearn.ensemble import RandomForestClassifier\n",
    "\n",
    "# Initialisieren des Random Forest Modells\n",
    "model = RandomForestClassifier(random_state=42)\n",
    "\n",
    "# Training des Modells\n",
    "model.fit(X_train, y_train)\n",
    "\n",
    "print(\"Modelltraining abgeschlossen.\")"
   ]
  },
  {
   "cell_type": "markdown",
   "id": "7b35a52b-a86a-44c5-83b9-c9ba32984d7b",
   "metadata": {},
   "source": [
    "# 3.3 Überprüfung der Vorhersagen\n",
    "\n",
    "Nun teste ich das Modell, indem ich einige Vorhersagen auf den Testdaten durchführe und sie mit den tatsächlichen Klassen vergleiche."
   ]
  },
  {
   "cell_type": "code",
   "execution_count": 8,
   "id": "a0d5b101-e9c7-4437-980d-7493cb88abf4",
   "metadata": {},
   "outputs": [
    {
     "data": {
      "text/html": [
       "<div>\n",
       "<style scoped>\n",
       "    .dataframe tbody tr th:only-of-type {\n",
       "        vertical-align: middle;\n",
       "    }\n",
       "\n",
       "    .dataframe tbody tr th {\n",
       "        vertical-align: top;\n",
       "    }\n",
       "\n",
       "    .dataframe thead th {\n",
       "        text-align: right;\n",
       "    }\n",
       "</style>\n",
       "<table border=\"1\" class=\"dataframe\">\n",
       "  <thead>\n",
       "    <tr style=\"text-align: right;\">\n",
       "      <th></th>\n",
       "      <th>Tatsächliche Klasse</th>\n",
       "      <th>Vorhergesagte Klasse</th>\n",
       "    </tr>\n",
       "  </thead>\n",
       "  <tbody>\n",
       "    <tr>\n",
       "      <th>0</th>\n",
       "      <td>GALAXY</td>\n",
       "      <td>GALAXY</td>\n",
       "    </tr>\n",
       "    <tr>\n",
       "      <th>1</th>\n",
       "      <td>STAR</td>\n",
       "      <td>STAR</td>\n",
       "    </tr>\n",
       "    <tr>\n",
       "      <th>2</th>\n",
       "      <td>STAR</td>\n",
       "      <td>STAR</td>\n",
       "    </tr>\n",
       "    <tr>\n",
       "      <th>3</th>\n",
       "      <td>STAR</td>\n",
       "      <td>STAR</td>\n",
       "    </tr>\n",
       "    <tr>\n",
       "      <th>4</th>\n",
       "      <td>STAR</td>\n",
       "      <td>STAR</td>\n",
       "    </tr>\n",
       "    <tr>\n",
       "      <th>5</th>\n",
       "      <td>QSO</td>\n",
       "      <td>GALAXY</td>\n",
       "    </tr>\n",
       "    <tr>\n",
       "      <th>6</th>\n",
       "      <td>GALAXY</td>\n",
       "      <td>GALAXY</td>\n",
       "    </tr>\n",
       "    <tr>\n",
       "      <th>7</th>\n",
       "      <td>QSO</td>\n",
       "      <td>QSO</td>\n",
       "    </tr>\n",
       "    <tr>\n",
       "      <th>8</th>\n",
       "      <td>GALAXY</td>\n",
       "      <td>GALAXY</td>\n",
       "    </tr>\n",
       "    <tr>\n",
       "      <th>9</th>\n",
       "      <td>GALAXY</td>\n",
       "      <td>GALAXY</td>\n",
       "    </tr>\n",
       "  </tbody>\n",
       "</table>\n",
       "</div>"
      ],
      "text/plain": [
       "  Tatsächliche Klasse Vorhergesagte Klasse\n",
       "0              GALAXY               GALAXY\n",
       "1                STAR                 STAR\n",
       "2                STAR                 STAR\n",
       "3                STAR                 STAR\n",
       "4                STAR                 STAR\n",
       "5                 QSO               GALAXY\n",
       "6              GALAXY               GALAXY\n",
       "7                 QSO                  QSO\n",
       "8              GALAXY               GALAXY\n",
       "9              GALAXY               GALAXY"
      ]
     },
     "execution_count": 8,
     "metadata": {},
     "output_type": "execute_result"
    }
   ],
   "source": [
    "\n",
    "# Vorhersagen generieren\n",
    "y_pred = model.predict(X_test)\n",
    "\n",
    "# Anzeigen einiger Vorhersagen im Vergleich zu den tatsächlichen Werten\n",
    "comparison = pd.DataFrame({'Tatsächliche Klasse': y_test.values, 'Vorhergesagte Klasse': y_pred})\n",
    "comparison.head(10)"
   ]
  },
  {
   "cell_type": "markdown",
   "id": "f86e87d6-04b7-472a-a0ef-35f049534e46",
   "metadata": {},
   "source": [
    "# Berechne Accuracy\n",
    "\n",
    "In diesem Teil schaue ich, wie gut mein Modell wirklich funktioniert.\n",
    "Zuerst rechne ich aus, wie viele Vorhersagen richtig waren – also Accuracy.\n",
    "Dann lasse ich mir noch eine Konfusionsmatrix ausgeben. Damit sehe ich genau, wo das Modell richtig liegt und wo es Fehler gemacht hat, zum Beispiel ob es Sterne mit Galaxien verwechselt hat.\n",
    "So bekomme ich ein besseres Gefühl dafür, wie gut mein Modell schon ist und wo es noch Probleme gibt."
   ]
  },
  {
   "cell_type": "code",
   "execution_count": 9,
   "id": "c7b2aa1a-f5c9-4bbf-8251-d452dc4e6ccc",
   "metadata": {},
   "outputs": [
    {
     "name": "stdout",
     "output_type": "stream",
     "text": [
      "Genauigkeit des Modells: 0.98\n",
      "Konfusionsmatrix:\n",
      "[[11710   134    16]\n",
      " [  290  3506     1]\n",
      " [    3     0  4340]]\n"
     ]
    }
   ],
   "source": [
    "from sklearn.metrics import accuracy_score, confusion_matrix\n",
    "\n",
    "# Berechnung der Genauigkeit (Accuracy)\n",
    "accuracy = accuracy_score(y_test, y_pred)\n",
    "print(f\"Genauigkeit des Modells: {accuracy:.2f}\")\n",
    "\n",
    "# Erstellen der Konfusionsmatrix\n",
    "conf_matrix = confusion_matrix(y_test, y_pred)\n",
    "print(\"Konfusionsmatrix:\")\n",
    "print(conf_matrix)\n"
   ]
  },
  {
   "cell_type": "markdown",
   "id": "a13e0184-f2de-4b87-8a8d-a5ecc49079da",
   "metadata": {},
   "source": [
    "# Was bedeuten diese Zahlen in der Konfusionsmatrix?\n",
    "\n",
    "|                         | Vorhergesagt: Stern | Vorhergesagt: Galaxie | Vorhergesagt: Quasar |\n",
    "|-------------------------|---------------------|-----------------------|----------------------|\n",
    "| **Tatsächlich: Stern**   | 11710               | 134                   | 16                   |\n",
    "| **Tatsächlich: Galaxie** | 290                 | 3506                  | 1                    |\n",
    "| **Tatsächlich: Quasar**  | 3                   | 0                     | 4340                 |\n"
   ]
  }
 ],
 "metadata": {
  "kernelspec": {
   "display_name": "Python 3 (ipykernel)",
   "language": "python",
   "name": "python3"
  },
  "language_info": {
   "codemirror_mode": {
    "name": "ipython",
    "version": 3
   },
   "file_extension": ".py",
   "mimetype": "text/x-python",
   "name": "python",
   "nbconvert_exporter": "python",
   "pygments_lexer": "ipython3",
   "version": "3.9.13"
  }
 },
 "nbformat": 4,
 "nbformat_minor": 5
}
